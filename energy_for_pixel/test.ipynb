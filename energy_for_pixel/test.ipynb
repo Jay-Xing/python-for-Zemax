{
 "cells": [
  {
   "cell_type": "code",
   "execution_count": 58,
   "metadata": {},
   "outputs": [],
   "source": [
    "# 导入相关包\n",
    "import re as re\n",
    "import numpy as np"
   ]
  },
  {
   "cell_type": "code",
   "execution_count": 200,
   "metadata": {},
   "outputs": [],
   "source": [
    "# 提取能量集中度txt文件中指定视场数据\n",
    "# 参数：path -> 能量集中度txt文件保存位置\n",
    "#       field_list -> 指定需要提取数据的视场，默认提取所有视场\n",
    "# 返回：字典类型 -> 视场和其对应能量集中度函数曲线\n",
    "def extract_data(path, field_list=-1):\n",
    "    f = open(path, encoding='utf-8')\n",
    "    txtData = f.readlines()\n",
    "    \n",
    "    params = {}\n",
    "    count = 0\n",
    "    index =0\n",
    "    isFindField = False\n",
    "    \n",
    "    for i in range(len(txtData)):\n",
    "        find_field = re.findall(r\"Field\", txtData[i])\n",
    "        if find_field:\n",
    "            fieldData = []\n",
    "            index = i\n",
    "            count += 1\n",
    "            field = \"Field\" + str(count)\n",
    "            isFindField = True\n",
    "\n",
    "        if (i >= index+4) and isFindField:\n",
    "            find_data = re.findall(r\"\\d+\\.?\\d*\", txtData[i])\n",
    "            if find_data:\n",
    "                fieldData.append(find_data)\n",
    "            else:\n",
    "                params[field] = np.array(fieldData, dtype=np.float64)\n",
    "\n",
    "        if i == len(data) - 1:\n",
    "            params[field] = np.array(fieldData, dtype=np.float64)\n",
    "\n",
    "    # 将指定视场能量集中度数据提取出来\n",
    "    paramsSub = {}\n",
    "    if field_list == -1:\n",
    "        return params\n",
    "    else:\n",
    "        for i in field_list:\n",
    "            paramsSub[('Field'+str(i))] = params[('Field'+str(i))]\n",
    "        \n",
    "        return paramsSub"
   ]
  },
  {
   "cell_type": "code",
   "execution_count": 203,
   "metadata": {},
   "outputs": [],
   "source": [
    "result = extract_data('test1.txt', [1,5])\n"
   ]
  },
  {
   "cell_type": "code",
   "execution_count": null,
   "metadata": {
    "scrolled": false
   },
   "outputs": [],
   "source": [
    "\n",
    "    "
   ]
  },
  {
   "cell_type": "code",
   "execution_count": null,
   "metadata": {},
   "outputs": [],
   "source": []
  }
 ],
 "metadata": {
  "kernelspec": {
   "display_name": "Python 3",
   "language": "python",
   "name": "python3"
  },
  "language_info": {
   "codemirror_mode": {
    "name": "ipython",
    "version": 3
   },
   "file_extension": ".py",
   "mimetype": "text/x-python",
   "name": "python",
   "nbconvert_exporter": "python",
   "pygments_lexer": "ipython3",
   "version": "3.7.0"
  }
 },
 "nbformat": 4,
 "nbformat_minor": 2
}
