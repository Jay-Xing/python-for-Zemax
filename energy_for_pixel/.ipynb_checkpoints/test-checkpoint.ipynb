{
 "cells": [
  {
   "cell_type": "code",
   "execution_count": 86,
   "metadata": {},
   "outputs": [],
   "source": [
    "# 导入相关包\n",
    "import re as re\n",
    "import numpy as np\n",
    "import math as mt\n",
    "import matplotlib.pyplot as plt"
   ]
  },
  {
   "cell_type": "code",
   "execution_count": 9,
   "metadata": {},
   "outputs": [],
   "source": [
    "# 提取能量集中度txt文件中指定视场数据\n",
    "# 参数：path -> 能量集中度txt文件保存位置\n",
    "#       field_list -> 指定需要提取数据的视场，默认提取所有视场\n",
    "# 返回：字典类型 -> 视场和其对应能量集中度函数曲线\n",
    "def extract_data(path, field_list=-1):\n",
    "    f = open(path, encoding='utf-8')\n",
    "    txtData = f.readlines()\n",
    "    \n",
    "    params = {}\n",
    "    count = 0\n",
    "    index =0\n",
    "    isFindField = False\n",
    "    \n",
    "    for i in range(len(txtData)):\n",
    "        find_field = re.findall(r\"Field\", txtData[i])\n",
    "        if find_field:\n",
    "            fieldData = []\n",
    "            index = i\n",
    "            count += 1\n",
    "            field = \"Field\" + str(count)\n",
    "            isFindField = True\n",
    "\n",
    "        if (i >= index+4) and isFindField:\n",
    "            find_data = re.findall(r\"\\d+\\.?\\d*\", txtData[i])\n",
    "            if find_data:\n",
    "                fieldData.append(find_data)\n",
    "            else:\n",
    "                params[field] = np.array(fieldData, dtype=np.float64)\n",
    "\n",
    "        if i == len(txtData) - 1:\n",
    "            params[field] = np.array(fieldData, dtype=np.float64)\n",
    "\n",
    "    # 将指定视场能量集中度数据提取出来\n",
    "    paramsSub = {}\n",
    "    if field_list == -1:\n",
    "        return params\n",
    "    else:\n",
    "        for i in field_list:\n",
    "            paramsSub[('Field'+str(i))] = params[('Field'+str(i))]\n",
    "        \n",
    "        return paramsSub"
   ]
  },
  {
   "cell_type": "code",
   "execution_count": 82,
   "metadata": {
    "scrolled": false
   },
   "outputs": [],
   "source": [
    "# 将能量集中度数据转换为单个点的能量\n",
    "# 参数： energy_list -> 不同半径list对应的能量\n",
    "#        X_half_range -> X方向取点的半长度\n",
    "#        Y_half_range -> Y方向取点的半长度\n",
    "#        step ->X和Y方向取点步长，默认0.05\n",
    "# 返回： pointEnergy -> 各个坐标点的能量值\n",
    "def energy_in_point(energy_list, X_half_range, Y_half_range, step=0.05):\n",
    "    X_range = np.arange(-X_half_range, X_half_range, step)\n",
    "    Y_range = np.arange(-Y_half_range, Y_half_range, step)\n",
    "    radiusStep = energy_list[0,1] - energy_list[0,0]\n",
    "    count = np.zeros(energy_list.shape[1], dtype=np.int16)\n",
    "    # 计算每个环内坐标点的个数\n",
    "    for i in X_range:\n",
    "        for j in Y_range:\n",
    "            r = mt.sqrt(mt.pow(i,2)+mt.pow(j,2))\n",
    "            index = int(r/radiusStep)\n",
    "            if index < count.shape[0]:\n",
    "                count[index] += 1\n",
    "\n",
    "    #计算每个坐标点的能量\n",
    "    pointEnergy = np.zeros((X_range.shape[0], Y_range.shape[0]),dtype = np.float64)\n",
    "    for i in range(X_range.shape[0]):\n",
    "        for j in range(Y_range.shape[0]):\n",
    "            r = mt.sqrt(mt.pow(X_range[i],2)+mt.pow(Y_range[j],2))\n",
    "            index = int(r/radiusStep) + 1\n",
    "            if index < count.shape[0]:\n",
    "                pointEnergy[i,j] = (energy_list[1,index] - energy_list[1,index-1])/count[index-1]\n",
    "    \n",
    "    return pointEnergy"
   ]
  },
  {
   "cell_type": "code",
   "execution_count": 106,
   "metadata": {},
   "outputs": [],
   "source": [
    "def energy_in_pixel(energy_list, X_pixel, Y_pixel):\n",
    "    pixelEnergy = np.zeros((X_pixel, Y_pixel), dtype=np.float64)\n",
    "    X_step = energy_list.shape[1] / X_pixel\n",
    "    Y_step = energy_list.shape[0] / Y_pixel\n",
    "    for i in range(Y_pixel):\n",
    "        for j in range(X_pixel):\n",
    "            pixelEnergy[i, j] = np.sum(energy_list[int(i*X_step):int((i+1)*X_step), int(j*Y_step):int((j+1)*Y_step)])\n",
    "    \n",
    "    return pixelEnergy"
   ]
  },
  {
   "cell_type": "code",
   "execution_count": 108,
   "metadata": {},
   "outputs": [
    {
     "data": {
      "text/plain": [
       "array([[0.00799504, 0.05509077, 0.00807616],\n",
       "       [0.05509077, 0.62944283, 0.05613008],\n",
       "       [0.00807616, 0.05613008, 0.0081591 ]])"
      ]
     },
     "execution_count": 108,
     "metadata": {},
     "output_type": "execute_result"
    }
   ],
   "source": [
    "energyData = extract_data('data/test.txt', [1])\n",
    "pointEnergy = energy_in_point(energyData['Field1'].T, 22.5, 22.5)\n",
    "pixelEnergy = energy_in_pixel(pointEnergy, 3, 3)\n",
    "pixelEnergy\n",
    "\n",
    "# a = np.array([[1,2,3],\n",
    "#             [1,2,3],\n",
    "#             [1,2,3]])\n",
    "# np.sum(a[1:3, 1:3])"
   ]
  },
  {
   "cell_type": "code",
   "execution_count": null,
   "metadata": {},
   "outputs": [],
   "source": []
  }
 ],
 "metadata": {
  "kernelspec": {
   "display_name": "Python 3",
   "language": "python",
   "name": "python3"
  },
  "language_info": {
   "codemirror_mode": {
    "name": "ipython",
    "version": 3
   },
   "file_extension": ".py",
   "mimetype": "text/x-python",
   "name": "python",
   "nbconvert_exporter": "python",
   "pygments_lexer": "ipython3",
   "version": "3.7.0"
  }
 },
 "nbformat": 4,
 "nbformat_minor": 2
}
